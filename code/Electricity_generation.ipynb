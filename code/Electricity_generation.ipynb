{
 "cells": [
  {
   "cell_type": "code",
   "execution_count": 1,
   "metadata": {},
   "outputs": [
    {
     "name": "stdout",
     "output_type": "stream",
     "text": [
      "Collecting dash\n",
      "  Downloading dash-2.14.2-py3-none-any.whl (10.2 MB)\n",
      "\u001b[2K     \u001b[90m━━━━━━━━━━━━━━━━━━━━━━━━━━━━━━━━━━━━━━━━\u001b[0m \u001b[32m10.2/10.2 MB\u001b[0m \u001b[31m5.7 MB/s\u001b[0m eta \u001b[36m0:00:00\u001b[0m0:01\u001b[0m00:01\u001b[0m0m\n",
      "\u001b[?25hRequirement already satisfied: setuptools in /opt/homebrew/lib/python3.10/site-packages (from dash) (65.6.3)\n",
      "Collecting dash-html-components==2.0.0\n",
      "  Downloading dash_html_components-2.0.0-py3-none-any.whl (4.1 kB)\n",
      "Requirement already satisfied: importlib-metadata in /opt/homebrew/lib/python3.10/site-packages (from dash) (7.0.1)\n",
      "Requirement already satisfied: requests in /opt/homebrew/lib/python3.10/site-packages (from dash) (2.31.0)\n",
      "Collecting Flask<3.1,>=1.0.4\n",
      "  Downloading flask-3.0.1-py3-none-any.whl (101 kB)\n",
      "\u001b[2K     \u001b[90m━━━━━━━━━━━━━━━━━━━━━━━━━━━━━━━━━━━━━━\u001b[0m \u001b[32m101.2/101.2 kB\u001b[0m \u001b[31m10.2 MB/s\u001b[0m eta \u001b[36m0:00:00\u001b[0m\n",
      "\u001b[?25hCollecting dash-table==5.0.0\n",
      "  Downloading dash_table-5.0.0-py3-none-any.whl (3.9 kB)\n",
      "Requirement already satisfied: nest-asyncio in /Users/aidacamacho/Library/Python/3.10/lib/python/site-packages (from dash) (1.5.8)\n",
      "Collecting dash-core-components==2.0.0\n",
      "  Downloading dash_core_components-2.0.0-py3-none-any.whl (3.8 kB)\n",
      "Collecting Werkzeug<3.1\n",
      "  Downloading werkzeug-3.0.1-py3-none-any.whl (226 kB)\n",
      "\u001b[2K     \u001b[90m━━━━━━━━━━━━━━━━━━━━━━━━━━━━━━━━━━━━━━\u001b[0m \u001b[32m226.7/226.7 kB\u001b[0m \u001b[31m21.6 MB/s\u001b[0m eta \u001b[36m0:00:00\u001b[0m\n",
      "\u001b[?25hRequirement already satisfied: plotly>=5.0.0 in /opt/homebrew/lib/python3.10/site-packages (from dash) (5.18.0)\n",
      "Collecting ansi2html\n",
      "  Downloading ansi2html-1.9.1-py3-none-any.whl (17 kB)\n",
      "Collecting retrying\n",
      "  Downloading retrying-1.3.4-py3-none-any.whl (11 kB)\n",
      "Requirement already satisfied: typing-extensions>=4.1.1 in /opt/homebrew/lib/python3.10/site-packages (from dash) (4.9.0)\n",
      "Requirement already satisfied: click>=8.1.3 in /opt/homebrew/lib/python3.10/site-packages (from Flask<3.1,>=1.0.4->dash) (8.1.7)\n",
      "Requirement already satisfied: Jinja2>=3.1.2 in /opt/homebrew/lib/python3.10/site-packages (from Flask<3.1,>=1.0.4->dash) (3.1.3)\n",
      "Collecting itsdangerous>=2.1.2\n",
      "  Downloading itsdangerous-2.1.2-py3-none-any.whl (15 kB)\n",
      "Collecting blinker>=1.6.2\n",
      "  Downloading blinker-1.7.0-py3-none-any.whl (13 kB)\n",
      "Requirement already satisfied: packaging in /Users/aidacamacho/Library/Python/3.10/lib/python/site-packages (from plotly>=5.0.0->dash) (23.2)\n",
      "Requirement already satisfied: tenacity>=6.2.0 in /opt/homebrew/lib/python3.10/site-packages (from plotly>=5.0.0->dash) (8.2.3)\n",
      "Requirement already satisfied: MarkupSafe>=2.1.1 in /opt/homebrew/lib/python3.10/site-packages (from Werkzeug<3.1->dash) (2.1.4)\n",
      "Requirement already satisfied: zipp>=0.5 in /opt/homebrew/lib/python3.10/site-packages (from importlib-metadata->dash) (3.17.0)\n",
      "Requirement already satisfied: idna<4,>=2.5 in /opt/homebrew/lib/python3.10/site-packages (from requests->dash) (3.6)\n",
      "Requirement already satisfied: certifi>=2017.4.17 in /opt/homebrew/lib/python3.10/site-packages (from requests->dash) (2023.11.17)\n",
      "Requirement already satisfied: charset-normalizer<4,>=2 in /opt/homebrew/lib/python3.10/site-packages (from requests->dash) (3.3.2)\n",
      "Requirement already satisfied: urllib3<3,>=1.21.1 in /opt/homebrew/lib/python3.10/site-packages (from requests->dash) (2.1.0)\n",
      "Requirement already satisfied: six>=1.7.0 in /Users/aidacamacho/Library/Python/3.10/lib/python/site-packages (from retrying->dash) (1.16.0)\n",
      "Installing collected packages: dash-table, dash-html-components, dash-core-components, Werkzeug, retrying, itsdangerous, blinker, ansi2html, Flask, dash\n",
      "Successfully installed Flask-3.0.1 Werkzeug-3.0.1 ansi2html-1.9.1 blinker-1.7.0 dash-2.14.2 dash-core-components-2.0.0 dash-html-components-2.0.0 dash-table-5.0.0 itsdangerous-2.1.2 retrying-1.3.4\n",
      "\n",
      "\u001b[1m[\u001b[0m\u001b[34;49mnotice\u001b[0m\u001b[1;39;49m]\u001b[0m\u001b[39;49m A new release of pip available: \u001b[0m\u001b[31;49m22.3.1\u001b[0m\u001b[39;49m -> \u001b[0m\u001b[32;49m23.3.2\u001b[0m\n",
      "\u001b[1m[\u001b[0m\u001b[34;49mnotice\u001b[0m\u001b[1;39;49m]\u001b[0m\u001b[39;49m To update, run: \u001b[0m\u001b[32;49mpython3.10 -m pip install --upgrade pip\u001b[0m\n",
      "Note: you may need to restart the kernel to use updated packages.\n"
     ]
    }
   ],
   "source": [
    "pip install dash"
   ]
  },
  {
   "cell_type": "code",
   "execution_count": 2,
   "metadata": {},
   "outputs": [
    {
     "data": {
      "text/html": [
       "\n",
       "        <iframe\n",
       "            width=\"100%\"\n",
       "            height=\"650\"\n",
       "            src=\"http://127.0.0.1:8050/\"\n",
       "            frameborder=\"0\"\n",
       "            allowfullscreen\n",
       "            \n",
       "        ></iframe>\n",
       "        "
      ],
      "text/plain": [
       "<IPython.lib.display.IFrame at 0x142be6a40>"
      ]
     },
     "metadata": {},
     "output_type": "display_data"
    }
   ],
   "source": [
    "import dash\n",
    "from dash import dcc, html\n",
    "from dash.dependencies import Input, Output\n",
    "import plotly.express as px\n",
    "import pandas as pd\n",
    "\n",
    "# Load the dataset\n",
    "url = \"https://raw.githubusercontent.com/Rising-Stars-by-Sunshine/STATS201_Aida/main/data/owid-energy-data.csv\"\n",
    "df = pd.read_csv(url)\n",
    "\n",
    "# Initialize the Dash app\n",
    "app = dash.Dash(__name__)\n",
    "\n",
    "# Define the layout of the app\n",
    "app.layout = html.Div([\n",
    "    html.H1(\"Energy Data Time Series\"),\n",
    "\n",
    "    # Dropdown for selecting energy source\n",
    "    dcc.Dropdown(\n",
    "        id='energy-source-dropdown',\n",
    "        options=[\n",
    "            {'label': 'Electricity Generation', 'value': 'electricity_generation'},\n",
    "            {'label': 'Renewables Electricity', 'value': 'renewables_electricity'},\n",
    "            {'label': 'Fossil Electricity', 'value': 'fossil_electricity'}\n",
    "        ],\n",
    "        value='electricity_generation',\n",
    "        style={'width': '50%'}\n",
    "    ),\n",
    "\n",
    "    # Time Series Plot\n",
    "    dcc.Graph(id='time-series-plot'),\n",
    "])\n",
    "# Define callback to update time series plot based on dropdown selection\n",
    "@app.callback(\n",
    "    Output('time-series-plot', 'figure'),\n",
    "    [Input('energy-source-dropdown', 'value')]\n",
    ")\n",
    "def update_time_series_plot(selected_energy_source):\n",
    "    # Filter data for a specific country (e.g., 'United States')\n",
    "    filtered_df = df[df['country'] == 'United States']\n",
    "\n",
    "    # Create Time Series Line Chart using Plotly Express\n",
    "    fig = px.line(filtered_df, x='year', y=selected_energy_source,\n",
    "                  title=f\"{selected_energy_source} Over Time for United States\")\n",
    "\n",
    "    # Update layout for better readability\n",
    "    fig.update_layout(xaxis_title='Year', yaxis_title=selected_energy_source)\n",
    "\n",
    "    return fig\n",
    "\n",
    "\n",
    "# Run the app\n",
    "if __name__ == '__main__':\n",
    "    app.run_server(debug=True)"
   ]
  }
 ],
 "metadata": {
  "kernelspec": {
   "display_name": "Python 3",
   "language": "python",
   "name": "python3"
  },
  "language_info": {
   "codemirror_mode": {
    "name": "ipython",
    "version": 3
   },
   "file_extension": ".py",
   "mimetype": "text/x-python",
   "name": "python",
   "nbconvert_exporter": "python",
   "pygments_lexer": "ipython3",
   "version": "3.10.9"
  }
 },
 "nbformat": 4,
 "nbformat_minor": 2
}
